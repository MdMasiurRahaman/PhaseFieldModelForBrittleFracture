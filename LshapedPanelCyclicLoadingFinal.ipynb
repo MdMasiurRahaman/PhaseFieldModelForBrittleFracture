{
 "cells": [
  {
   "cell_type": "code",
   "execution_count": 1,
   "id": "primary-herald",
   "metadata": {},
   "outputs": [],
   "source": [
    "using  Gmsh: gmsh\n",
    "using  GridapGmsh\n",
    "using  Gridap\n",
    "using  Gridap.Geometry\n",
    "using  Gridap.TensorValues\n",
    "using  PyPlot"
   ]
  },
  {
   "cell_type": "code",
   "execution_count": 2,
   "id": "about-intake",
   "metadata": {},
   "outputs": [
    {
     "data": {
      "text/plain": [
       "1.0e-15"
      ]
     },
     "execution_count": 2,
     "metadata": {},
     "output_type": "execute_result"
    }
   ],
   "source": [
    "const  E_mat = 25.8423e3\n",
    "const  ν_mat = 0.18\n",
    "const  Gc = 0.089\n",
    "const  η = 1e-15"
   ]
  },
  {
   "cell_type": "code",
   "execution_count": 3,
   "id": "brazilian-sherman",
   "metadata": {},
   "outputs": [
    {
     "name": "stdout",
     "output_type": "stream",
     "text": [
      "Info    : Meshing 1D...\n",
      "Info    : Meshing curve 1 (Line)\n",
      "Info    : Meshing curve 2 (Line)\n",
      "Info    : Meshing curve 3 (Line)\n",
      "Info    : Meshing curve 4 (Line)\n",
      "Info    : Meshing curve 5 (Line)\n",
      "Info    : Meshing curve 6 (Line)\n",
      "Info    : Meshing curve 7 (Line)\n",
      "Info    : Meshing curve 8 (Line)\n",
      "Info    : Meshing curve 9 (Line)\n",
      "Info    : Meshing curve 100 (Line)\n",
      "Info    : Done meshing 1D (0.015889 s)\n",
      "Info    : Meshing 2D...\n",
      "Info    : Meshing surface 1 (Plane, Delaunay)\n",
      "Info    : Done meshing 2D (1.95542 s)\n",
      "Info    : 75834 vertices 151015 elements\n",
      "Info    : Writing 'LShapedPanel.msh'...\n",
      "Info    : Done writing 'LShapedPanel.msh'\n"
     ]
    }
   ],
   "source": [
    "const  ls = 1.1875\n",
    "const  L = 500\n",
    "const  H = 500\n",
    "const  LOf = 220\n",
    "const  hfc = ls/5 #Mesh  size  parameter\n",
    "const  hf = ls/2.1 #Mesh  size  parameter\n",
    "const  h = 40*hf #Mesh  size  parameter\n",
    "const  thick = 100\n",
    "\n",
    "gmsh.initialize()\n",
    "gmsh.option.setNumber(\"General.Terminal\", 1)\n",
    "gmsh.model.geo.addPoint(0.0, 0.0, 0.0, h ,1)\n",
    "gmsh.model.geo.addPoint(L/2, 0.0, 0.0, h, 2)\n",
    "gmsh.model.geo.addPoint(L/2, H/2, 0.0, hfc, 3)\n",
    "gmsh.model.geo.addPoint(L/2+LOf-5, H/2, 0.0, hfc, 4)\n",
    "gmsh.model.geo.addPoint(L/2+LOf+5, H/2, 0.0, hfc, 5)\n",
    "gmsh.model.geo.addPoint(L, H/2, 0.0, h, 6)\n",
    "gmsh.model.geo.addPoint(L, H, 0.0, h, 7)\n",
    "gmsh.model.geo.addPoint(0.0, H, 0.0, h, 8)\n",
    "gmsh.model.geo.addPoint(0.0, H/2, 0.0, hf, 9)\n",
    "\n",
    "gmsh.model.geo.addLine(1, 2, 1)\n",
    "gmsh.model.geo.addLine(2, 3, 2)\n",
    "gmsh.model.geo.addLine(3, 4, 3)\n",
    "gmsh.model.geo.addLine(4, 5, 4)\n",
    "gmsh.model.geo.addLine(5, 6, 5)\n",
    "gmsh.model.geo.addLine(6, 7, 6)\n",
    "gmsh.model.geo.addLine(7, 8, 7)\n",
    "gmsh.model.geo.addLine(8, 9, 8)\n",
    "gmsh.model.geo.addLine(9, 1, 9)\n",
    "gmsh.model.geo.addLine(3, 9, 100)\n",
    "\n",
    "gmsh.model.geo.addCurveLoop([1,2,3,4,5,6,7,8,9],1)\n",
    "gmsh.model.geo.addPlaneSurface([1], 1)\n",
    "\n",
    "gmsh.model.addPhysicalGroup(2, [1],1)\n",
    "gmsh.model.addPhysicalGroup(1, [1],1)\n",
    "gmsh.model.addPhysicalGroup(1, [4],2)\n",
    "\n",
    "gmsh.model.setPhysicalName(2, 1, \"Domain\")\n",
    "gmsh.model.setPhysicalName(1, 1, \"Support\")\n",
    "gmsh.model.setPhysicalName(1, 2, \"LoadLine\")\n",
    "\n",
    "gmsh.model.mesh.field.add(\"Distance\", 1)\n",
    "gmsh.model.mesh.field.setNumbers(1, \"EdgesList\", [100])\n",
    "\n",
    "gmsh.model.mesh.field.add(\"Threshold\", 2)\n",
    "gmsh.model.mesh.field.setNumber(2, \"IField\", 1)\n",
    "gmsh.model.mesh.field.setNumber(2, \"LcMin\", hf)\n",
    "gmsh.model.mesh.field.setNumber(2, \"LcMax\", h)\n",
    "gmsh.model.mesh.field.setNumber(2, \"DistMin\", 25*ls)\n",
    "gmsh.model.mesh.field.setNumber(2, \"DistMax\", 35*ls)\n",
    "gmsh.model.mesh.field.setAsBackgroundMesh(2)\n",
    "\n",
    "gmsh.model.geo.synchronize()\n",
    "gmsh.model.mesh.generate(2)\n",
    "gmsh.write(\"LShapedPanel.msh\")\n",
    "gmsh.finalize()"
   ]
  },
  {
   "cell_type": "code",
   "execution_count": 4,
   "id": "certain-insert",
   "metadata": {},
   "outputs": [
    {
     "name": "stdout",
     "output_type": "stream",
     "text": [
      "Info    : Reading 'LShapedPanel.msh'...\n",
      "Info    : 20 entities\n",
      "Info    : 75173 nodes\n",
      "Info    : 149167 elements\n",
      "Info    : [ 10%] Reading elements                                          \r",
      "Info    : [ 20%] Reading elements                                          \r",
      "Info    : [ 30%] Reading elements                                          \r",
      "Info    : [ 40%] Reading elements                                          \r",
      "Info    : [ 50%] Reading elements                                          \r",
      "Info    : [ 60%] Reading elements                                          \r",
      "Info    : [ 70%] Reading elements                                          \r",
      "Info    : [ 80%] Reading elements                                          \r",
      "Info    : [ 90%] Reading elements                                          \r",
      "Info    : [100%] Reading elements                                          \r",
      "                                          \r",
      "Info    : Done reading 'LShapedPanel.msh'\n"
     ]
    },
    {
     "data": {
      "text/plain": [
       "3-element Array{Array{String,1},1}:\n",
       " [\"LShapedPanel_0.vtu\"]\n",
       " [\"LShapedPanel_1.vtu\"]\n",
       " [\"LShapedPanel_2.vtu\"]"
      ]
     },
     "execution_count": 4,
     "metadata": {},
     "output_type": "execute_result"
    }
   ],
   "source": [
    "model = GmshDiscreteModel(\"LShapedPanel.msh\")\n",
    "writevtk(model ,\"LShapedPanel\")"
   ]
  },
  {
   "cell_type": "code",
   "execution_count": 5,
   "id": "controlling-windows",
   "metadata": {},
   "outputs": [
    {
     "data": {
      "text/plain": [
       "ElasFourthOrderConstTensor (generic function with 1 method)"
      ]
     },
     "execution_count": 5,
     "metadata": {},
     "output_type": "execute_result"
    }
   ],
   "source": [
    "function  ElasFourthOrderConstTensor(E,ν,PlanarState)\n",
    "    # 1 for  Plane  Stress  and 2 Plane  Strain  Condition\n",
    "    if  PlanarState  == 1\n",
    "        C1111 =E/(1-ν*ν)\n",
    "        C1122 = (ν*E)/(1-ν*ν)\n",
    "        C1112 = 0.0\n",
    "        C2222 =E/(1-ν*ν)\n",
    "        C2212 = 0.0\n",
    "        C1212 =E/(2*(1+ν))\n",
    "    elseif  PlanarState  == 2\n",
    "        C1111 = (E*(1-ν*ν))/((1+ν)*(1-ν-2*ν*ν))\n",
    "        C1122 = (ν*E)/(1-ν-2*ν*ν)\n",
    "        C1112 = 0.0\n",
    "        C2222 = (E*(1-ν))/(1-ν-2*ν*ν)\n",
    "        C2212 = 0.0\n",
    "        C1212 =E/(2*(1+ν))\n",
    "    end\n",
    "    C_ten = SymFourthOrderTensorValue(C1111 ,C1112 ,C1122 ,C1112 ,C1212 ,C2212 ,C1122 ,C2212 ,C2222)\n",
    "    return   C_ten\n",
    "end"
   ]
  },
  {
   "cell_type": "code",
   "execution_count": 6,
   "id": "diagnostic-burns",
   "metadata": {},
   "outputs": [
    {
     "data": {
      "text/plain": [
       "SymFourthOrderTensorValue{2,Float64,9}(28059.700741525423, 0.0, 6159.446504237287, 0.0, 10950.127118644068, 0.0, 6159.446504237287, 0.0, 28059.700741525423)"
      ]
     },
     "execution_count": 6,
     "metadata": {},
     "output_type": "execute_result"
    }
   ],
   "source": [
    "const  C_mat = ElasFourthOrderConstTensor(E_mat ,ν_mat ,2)"
   ]
  },
  {
   "cell_type": "code",
   "execution_count": 7,
   "id": "binary-house",
   "metadata": {},
   "outputs": [
    {
     "data": {
      "text/plain": [
       "SymFourthOrderTensorValue{2,Float64,9}(0.6666666666666667, 0.0, -0.3333333333333333, 0.0, 0.5, 0.0, -0.3333333333333333, 0.0, 0.6666666666666667)"
      ]
     },
     "execution_count": 7,
     "metadata": {},
     "output_type": "execute_result"
    }
   ],
   "source": [
    "I2 = SymTensorValue{2,Float64}(1.0 ,0.0 ,1.0)\n",
    "I4 = I2⊗I2\n",
    "I4_sym = one(SymFourthOrderTensorValue{2,Float64})\n",
    "P_vol = (1.0/3)*I4\n",
    "P_dev = I4_sym  - P_vol"
   ]
  },
  {
   "cell_type": "code",
   "execution_count": 8,
   "id": "western-commons",
   "metadata": {},
   "outputs": [
    {
     "data": {
      "text/plain": [
       "σfun (generic function with 1 method)"
      ]
     },
     "execution_count": 8,
     "metadata": {},
     "output_type": "execute_result"
    }
   ],
   "source": [
    "function σfun(ε,ε_in,s_in)\n",
    "    σ_elas = C_mat⊙ε\n",
    "    if tr(ε_in) >= 0\n",
    "        σ = (s_in ^2+η)*σ_elas\n",
    "    elseif  tr(ε_in) < 0\n",
    "        σ = (s_in ^2+η)*P_dev ⊙ σ_elas + P_vol ⊙ σ_elas\n",
    "    end\n",
    "    return  σ\n",
    "end"
   ]
  },
  {
   "cell_type": "code",
   "execution_count": 9,
   "id": "adapted-silly",
   "metadata": {},
   "outputs": [
    {
     "data": {
      "text/plain": [
       "ψPos (generic function with 1 method)"
      ]
     },
     "execution_count": 9,
     "metadata": {},
     "output_type": "execute_result"
    }
   ],
   "source": [
    "function ψPos(ε_in)\n",
    "   σ_elas = C_mat⊙ε_in\n",
    "    if tr(ε_in) >= 0\n",
    "        ψPlus = 0.5*(ε_in ⊙ σ_elas)\n",
    "    elseif  tr(ε_in) < 0\n",
    "        ψPlus = 0.5*((P_dev ⊙ σ_elas)⊙(P_dev⊙ε_in))\n",
    "    end\n",
    "    return ψPlus\n",
    "end"
   ]
  },
  {
   "cell_type": "code",
   "execution_count": 10,
   "id": "presidential-navigation",
   "metadata": {},
   "outputs": [
    {
     "data": {
      "text/plain": [
       "new_EnergyState (generic function with 1 method)"
      ]
     },
     "execution_count": 10,
     "metadata": {},
     "output_type": "execute_result"
    }
   ],
   "source": [
    "function  new_EnergyState(ψPlusPrev_in,ψhPos_in)\n",
    "    ψPlus_in = ψhPos_in\n",
    "    if ψPlus_in  >=ψPlusPrev_in\n",
    "        ψPlus_out =ψPlus_in\n",
    "    else\n",
    "        ψPlus_out=ψPlusPrev_in\n",
    "    end\n",
    "    true,ψPlus_out\n",
    "end"
   ]
  },
  {
   "cell_type": "code",
   "execution_count": 11,
   "id": "cathedral-warren",
   "metadata": {},
   "outputs": [
    {
     "data": {
      "text/plain": [
       "project (generic function with 1 method)"
      ]
     },
     "execution_count": 11,
     "metadata": {},
     "output_type": "execute_result"
    }
   ],
   "source": [
    "function  project(q,model ,dΩ,order)\n",
    "    reffe = ReferenceFE(lagrangian ,Float64 ,order)\n",
    "    V = FESpace(model ,reffe ,conformity =:L2)\n",
    "    a(u,v) =∫(u*v)*dΩ\n",
    "    b(v) =∫(v*q)*dΩ\n",
    "    op = AffineFEOperator(a,b,V,V)\n",
    "    qh = solve(op)\n",
    "    return  qh\n",
    "end"
   ]
  },
  {
   "cell_type": "code",
   "execution_count": 12,
   "id": "anticipated-surfing",
   "metadata": {},
   "outputs": [
    {
     "data": {
      "text/plain": [
       "SingleFieldFEFunction():\n",
       " num_cells: 149112\n",
       " DomainStyle: ReferenceDomain()\n",
       " Triangulation: UnstructuredGrid()\n",
       " Triangulation id: 15808787945722748321"
      ]
     },
     "execution_count": 12,
     "metadata": {},
     "output_type": "execute_result"
    }
   ],
   "source": [
    "order = 1\n",
    "reffe_PF = ReferenceFE(lagrangian ,Float64,order)\n",
    "V0_PF = TestFESpace(model ,reffe_PF;conformity =:H1)\n",
    "U_PF = TrialFESpace(V0_PF)\n",
    "sh = zero(V0_PF)"
   ]
  },
  {
   "cell_type": "code",
   "execution_count": 13,
   "id": "artificial-villa",
   "metadata": {},
   "outputs": [
    {
     "data": {
      "text/plain": [
       "SingleFieldFEFunction():\n",
       " num_cells: 149112\n",
       " DomainStyle: ReferenceDomain()\n",
       " Triangulation: UnstructuredGrid()\n",
       " Triangulation id: 15808787945722748321"
      ]
     },
     "execution_count": 13,
     "metadata": {},
     "output_type": "execute_result"
    }
   ],
   "source": [
    "reffe_Disp = ReferenceFE(lagrangian ,VectorValue{2,Float64},order)\n",
    "V0_Disp = TestFESpace(model,reffe_Disp;conformity =:H1,\n",
    "    dirichlet_tags = [\"Support\",\"LoadLine\"],\n",
    "    dirichlet_masks =[(true ,true), (false ,true)])\n",
    "\n",
    "uh = zero(V0_Disp)"
   ]
  },
  {
   "cell_type": "code",
   "execution_count": 14,
   "id": "accessible-cooler",
   "metadata": {},
   "outputs": [
    {
     "data": {
      "text/plain": [
       "Measure()"
      ]
     },
     "execution_count": 14,
     "metadata": {},
     "output_type": "execute_result"
    }
   ],
   "source": [
    "degree = 2*order\n",
    "Ω= Triangulation(model)\n",
    "dΩ= Measure(Ω,degree)"
   ]
  },
  {
   "cell_type": "code",
   "execution_count": 15,
   "id": "normal-horizontal",
   "metadata": {},
   "outputs": [
    {
     "data": {
      "text/plain": [
       "GenericCellField():\n",
       " num_cells: 12\n",
       " DomainStyle: ReferenceDomain()\n",
       " Triangulation: BoundaryTriangulation()\n",
       " Triangulation id: 8410383191122216738"
      ]
     },
     "execution_count": 15,
     "metadata": {},
     "output_type": "execute_result"
    }
   ],
   "source": [
    "labels = get_face_labeling(model)\n",
    "LoadTagId = get_tag_from_name(labels ,\"Support\")\n",
    "Γ_Load = BoundaryTriangulation(model ,tags = LoadTagId)\n",
    "dΓ_Load = Measure(Γ_Load ,degree)\n",
    "n_Γ_Load = get_normal_vector(Γ_Load)"
   ]
  },
  {
   "cell_type": "code",
   "execution_count": 16,
   "id": "qualified-marks",
   "metadata": {},
   "outputs": [
    {
     "data": {
      "text/plain": [
       "stepPhaseField (generic function with 1 method)"
      ]
     },
     "execution_count": 16,
     "metadata": {},
     "output_type": "execute_result"
    }
   ],
   "source": [
    "function   stepPhaseField(uh_in ,ΨPlusPrev_in)\n",
    "    a_PF(s,φ) =∫( Gc*ls*∇(φ)⋅∇(s)+ 2*ΨPlusPrev_in*s*φ+ (Gc/ls)*s*φ)*dΩ\n",
    "    b_PF(φ) =∫( (Gc/ls)*φ)*dΩ\n",
    "    op_PF = AffineFEOperator(a_PF,b_PF ,U_PF ,V0_PF)\n",
    "    sh_out = solve(op_PF)\n",
    "    return  sh_out\n",
    "end"
   ]
  },
  {
   "cell_type": "code",
   "execution_count": 17,
   "id": "static-minority",
   "metadata": {},
   "outputs": [
    {
     "data": {
      "text/plain": [
       "stepDisp (generic function with 1 method)"
      ]
     },
     "execution_count": 17,
     "metadata": {},
     "output_type": "execute_result"
    }
   ],
   "source": [
    "function  stepDisp(uh_in,sh_in ,vApp)\n",
    "    uApp1(x) = VectorValue(0.0,0.0)\n",
    "    uApp2(x) = VectorValue(0.0,vApp)\n",
    "    U_Disp = TrialFESpace(V0_Disp ,[uApp1 ,uApp2])\n",
    "    a_Disp(u,v) =∫( (ε(v)⊙(σfun∘(ε(u),ε(uh_in),sh_in)) ) )*dΩ\n",
    "    b_Disp(v) = 0.0\n",
    "    op_Disp = AffineFEOperator(a_Disp ,b_Disp ,U_Disp ,V0_Disp)\n",
    "    uh_out = solve(op_Disp)\n",
    "    return  uh_out\n",
    "end"
   ]
  },
  {
   "cell_type": "code",
   "execution_count": null,
   "id": "joined-disney",
   "metadata": {},
   "outputs": [
    {
     "name": "stdout",
     "output_type": "stream",
     "text": [
      "\n",
      " Entering  displacemtent  step1 :0.001\n",
      " Relative Error :5.995783629911824e-17\n",
      " Entering  displacemtent  step2 :0.002\n",
      " Relative Error :3.936572402874044e-8\n",
      " Relative Error :1.1809714124043624e-7\n",
      " Relative Error :9.522242191945845e-14\n",
      " Entering  displacemtent  step3 :0.003\n",
      " Relative Error :9.78301275364657e-18\n",
      " Entering  displacemtent  step4 :0.004\n",
      " Relative Error :1.9682832374368402e-7\n",
      " Relative Error :2.7555944118021843e-7\n",
      " Relative Error :8.887087004621473e-13\n",
      " Entering  displacemtent  step5 :0.005\n",
      " Relative Error :7.002104945649655e-17\n",
      " Entering  displacemtent  step6 :0.006\n",
      " Relative Error :3.5428920299051964e-7\n",
      " Relative Error :4.330202546557787e-7"
     ]
    }
   ],
   "source": [
    "vApp = 0\n",
    "delv = 1e-3\n",
    "const  vAppMax = 1\n",
    "innerMax = 10\n",
    "count = 0\n",
    "Load = Float64[]\n",
    "Displacement = Float64[]\n",
    "COUNTArray = Float64[]\n",
    "\n",
    "push!(Load, 0.0)\n",
    "push!(Displacement, 0.0)\n",
    "sPrev = CellState(1.0,dΩ)\n",
    "sh = project(sPrev ,model ,dΩ,order)\n",
    "ψPlusPrev = CellState(0.0,dΩ)\n",
    "while  vApp .< vAppMax\n",
    "    count = count  .+ 1\n",
    "    if count <= 300\n",
    "        vApp = vApp+delv\n",
    "    elseif count <= 600\n",
    "        vApp = vApp-delv\n",
    "    elseif count > 600\n",
    "        vApp = vApp+delv\n",
    "    end\n",
    "    \n",
    "    print(\"\\n Entering  displacemtent  step$count :\", float(vApp))\n",
    "    for  inner = 1: innerMax\n",
    "        ψhPlusPrev = project(ψPlusPrev ,model ,dΩ,order)\n",
    "        RelErr = abs(sum(∫( Gc*ls*∇(sh)⋅∇(sh) + 2*ψhPlusPrev*sh*sh + (Gc/ls)*sh*sh)*dΩ-∫( (Gc/ls)*sh)*dΩ))/abs(sum(∫( (Gc/ls)*sh)*dΩ))\n",
    "        print(\"\\n Relative Error :\", float(RelErr))\n",
    "        sh = stepPhaseField(uh,ψhPlusPrev)\n",
    "        uh = stepDisp(uh,sh,vApp)\n",
    "        ψhPos_in =ψPos∘(ε(uh))\n",
    "        update_state!( new_EnergyState ,ψPlusPrev ,ψhPos_in)\n",
    "        if   RelErr  < 1e-8\n",
    "            break\n",
    "        end\n",
    "    end\n",
    "    Node_Force = sum(∫(n_Γ_Load⋅(σfun∘(ε(uh),ε(uh),sh)))*dΓ_Load)\n",
    "    push!(Load , -thick*Node_Force[2])\n",
    "    push!( Displacement, vApp)\n",
    "    \n",
    "    push!(COUNTArray,count)\n",
    "    \n",
    "    if mod(count,20) == 0\n",
    "    writevtk(Ω,\"results_LShapedPanel$count\",cellfields= [\"uh\"=>uh ,\"s\"=>sh])\n",
    "    end\n",
    "end"
   ]
  },
  {
   "cell_type": "code",
   "execution_count": null,
   "id": "fatty-single",
   "metadata": {
    "scrolled": false
   },
   "outputs": [],
   "source": [
    "plot(Displacement,Load*1e-3)"
   ]
  }
 ],
 "metadata": {
  "@webio": {
   "lastCommId": null,
   "lastKernelId": null
  },
  "kernelspec": {
   "display_name": "Julia 1.5.3",
   "language": "julia",
   "name": "julia-1.5"
  },
  "language_info": {
   "file_extension": ".jl",
   "mimetype": "application/julia",
   "name": "julia",
   "version": "1.5.3"
  }
 },
 "nbformat": 4,
 "nbformat_minor": 5
}
